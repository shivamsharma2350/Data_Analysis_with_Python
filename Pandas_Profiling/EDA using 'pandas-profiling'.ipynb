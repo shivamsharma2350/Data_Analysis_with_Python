{
 "cells": [
  {
   "cell_type": "code",
   "execution_count": 26,
   "id": "54cad07b",
   "metadata": {},
   "outputs": [
    {
     "name": "stdout",
     "output_type": "stream",
     "text": [
      "Requirement already satisfied: pandas-profiling in c:\\users\\shiva\\anaconda3\\lib\\site-packages (3.6.2)\n",
      "Requirement already satisfied: typeguard<2.14,>=2.13.2 in c:\\users\\shiva\\anaconda3\\lib\\site-packages (from pandas-profiling) (2.13.3)\n",
      "Requirement already satisfied: requests<2.29,>=2.24.0 in c:\\users\\shiva\\anaconda3\\lib\\site-packages (from pandas-profiling) (2.28.1)\n",
      "Requirement already satisfied: seaborn<0.13,>=0.10.1 in c:\\users\\shiva\\anaconda3\\lib\\site-packages (from pandas-profiling) (0.11.2)\n",
      "Requirement already satisfied: matplotlib<3.7,>=3.2 in c:\\users\\shiva\\anaconda3\\lib\\site-packages (from pandas-profiling) (3.5.2)\n",
      "Requirement already satisfied: scipy<1.10,>=1.4.1 in c:\\users\\shiva\\anaconda3\\lib\\site-packages (from pandas-profiling) (1.9.1)\n",
      "Requirement already satisfied: visions[type_image_path]==0.7.5 in c:\\users\\shiva\\anaconda3\\lib\\site-packages (from pandas-profiling) (0.7.5)\n",
      "Requirement already satisfied: htmlmin==0.1.12 in c:\\users\\shiva\\anaconda3\\lib\\site-packages (from pandas-profiling) (0.1.12)\n",
      "Requirement already satisfied: statsmodels<0.14,>=0.13.2 in c:\\users\\shiva\\anaconda3\\lib\\site-packages (from pandas-profiling) (0.13.2)\n",
      "Requirement already satisfied: multimethod<1.10,>=1.4 in c:\\users\\shiva\\anaconda3\\lib\\site-packages (from pandas-profiling) (1.9.1)\n",
      "Requirement already satisfied: pydantic<1.11,>=1.8.1 in c:\\users\\shiva\\anaconda3\\lib\\site-packages (from pandas-profiling) (1.10.4)\n",
      "Requirement already satisfied: jinja2<3.2,>=2.11.1 in c:\\users\\shiva\\anaconda3\\lib\\site-packages (from pandas-profiling) (2.11.3)\n",
      "Requirement already satisfied: pandas!=1.4.0,<1.6,>1.1 in c:\\users\\shiva\\anaconda3\\lib\\site-packages (from pandas-profiling) (1.4.4)\n",
      "Requirement already satisfied: phik<0.13,>=0.11.1 in c:\\users\\shiva\\anaconda3\\lib\\site-packages (from pandas-profiling) (0.12.3)\n",
      "Requirement already satisfied: numpy<1.24,>=1.16.0 in c:\\users\\shiva\\anaconda3\\lib\\site-packages (from pandas-profiling) (1.21.5)\n",
      "Requirement already satisfied: tqdm<4.65,>=4.48.2 in c:\\users\\shiva\\anaconda3\\lib\\site-packages (from pandas-profiling) (4.64.1)\n",
      "Requirement already satisfied: PyYAML<6.1,>=5.0.0 in c:\\users\\shiva\\anaconda3\\lib\\site-packages (from pandas-profiling) (6.0)\n",
      "Requirement already satisfied: networkx>=2.4 in c:\\users\\shiva\\anaconda3\\lib\\site-packages (from visions[type_image_path]==0.7.5->pandas-profiling) (2.8.4)\n",
      "Requirement already satisfied: attrs>=19.3.0 in c:\\users\\shiva\\anaconda3\\lib\\site-packages (from visions[type_image_path]==0.7.5->pandas-profiling) (21.4.0)\n",
      "Requirement already satisfied: tangled-up-in-unicode>=0.0.4 in c:\\users\\shiva\\anaconda3\\lib\\site-packages (from visions[type_image_path]==0.7.5->pandas-profiling) (0.2.0)\n",
      "Requirement already satisfied: imagehash in c:\\users\\shiva\\anaconda3\\lib\\site-packages (from visions[type_image_path]==0.7.5->pandas-profiling) (4.3.1)\n",
      "Requirement already satisfied: Pillow in c:\\users\\shiva\\anaconda3\\lib\\site-packages (from visions[type_image_path]==0.7.5->pandas-profiling) (9.2.0)\n",
      "Requirement already satisfied: MarkupSafe>=0.23 in c:\\users\\shiva\\anaconda3\\lib\\site-packages (from jinja2<3.2,>=2.11.1->pandas-profiling) (2.0.1)\n",
      "Requirement already satisfied: python-dateutil>=2.7 in c:\\users\\shiva\\anaconda3\\lib\\site-packages (from matplotlib<3.7,>=3.2->pandas-profiling) (2.8.2)\n",
      "Requirement already satisfied: kiwisolver>=1.0.1 in c:\\users\\shiva\\anaconda3\\lib\\site-packages (from matplotlib<3.7,>=3.2->pandas-profiling) (1.4.2)\n",
      "Requirement already satisfied: pyparsing>=2.2.1 in c:\\users\\shiva\\anaconda3\\lib\\site-packages (from matplotlib<3.7,>=3.2->pandas-profiling) (3.0.9)\n",
      "Requirement already satisfied: packaging>=20.0 in c:\\users\\shiva\\anaconda3\\lib\\site-packages (from matplotlib<3.7,>=3.2->pandas-profiling) (21.3)\n",
      "Requirement already satisfied: cycler>=0.10 in c:\\users\\shiva\\anaconda3\\lib\\site-packages (from matplotlib<3.7,>=3.2->pandas-profiling) (0.11.0)\n",
      "Requirement already satisfied: fonttools>=4.22.0 in c:\\users\\shiva\\anaconda3\\lib\\site-packages (from matplotlib<3.7,>=3.2->pandas-profiling) (4.25.0)\n",
      "Requirement already satisfied: pytz>=2020.1 in c:\\users\\shiva\\anaconda3\\lib\\site-packages (from pandas!=1.4.0,<1.6,>1.1->pandas-profiling) (2022.1)\n",
      "Requirement already satisfied: joblib>=0.14.1 in c:\\users\\shiva\\anaconda3\\lib\\site-packages (from phik<0.13,>=0.11.1->pandas-profiling) (1.1.0)\n",
      "Requirement already satisfied: typing-extensions>=4.2.0 in c:\\users\\shiva\\anaconda3\\lib\\site-packages (from pydantic<1.11,>=1.8.1->pandas-profiling) (4.3.0)\n",
      "Requirement already satisfied: idna<4,>=2.5 in c:\\users\\shiva\\anaconda3\\lib\\site-packages (from requests<2.29,>=2.24.0->pandas-profiling) (3.3)\n",
      "Requirement already satisfied: charset-normalizer<3,>=2 in c:\\users\\shiva\\anaconda3\\lib\\site-packages (from requests<2.29,>=2.24.0->pandas-profiling) (2.0.4)\n",
      "Requirement already satisfied: urllib3<1.27,>=1.21.1 in c:\\users\\shiva\\anaconda3\\lib\\site-packages (from requests<2.29,>=2.24.0->pandas-profiling) (1.26.11)\n",
      "Requirement already satisfied: certifi>=2017.4.17 in c:\\users\\shiva\\anaconda3\\lib\\site-packages (from requests<2.29,>=2.24.0->pandas-profiling) (2022.9.14)\n",
      "Requirement already satisfied: patsy>=0.5.2 in c:\\users\\shiva\\anaconda3\\lib\\site-packages (from statsmodels<0.14,>=0.13.2->pandas-profiling) (0.5.2)\n",
      "Requirement already satisfied: colorama in c:\\users\\shiva\\anaconda3\\lib\\site-packages (from tqdm<4.65,>=4.48.2->pandas-profiling) (0.4.5)\n",
      "Requirement already satisfied: six in c:\\users\\shiva\\anaconda3\\lib\\site-packages (from patsy>=0.5.2->statsmodels<0.14,>=0.13.2->pandas-profiling) (1.16.0)\n",
      "Requirement already satisfied: PyWavelets in c:\\users\\shiva\\anaconda3\\lib\\site-packages (from imagehash->visions[type_image_path]==0.7.5->pandas-profiling) (1.3.0)\n",
      "Note: you may need to restart the kernel to use updated packages.\n"
     ]
    }
   ],
   "source": [
    "pip install pandas-profiling"
   ]
  },
  {
   "cell_type": "code",
   "execution_count": 2,
   "id": "38c56724",
   "metadata": {},
   "outputs": [
    {
     "data": {
      "text/html": [
       "<div>\n",
       "<style scoped>\n",
       "    .dataframe tbody tr th:only-of-type {\n",
       "        vertical-align: middle;\n",
       "    }\n",
       "\n",
       "    .dataframe tbody tr th {\n",
       "        vertical-align: top;\n",
       "    }\n",
       "\n",
       "    .dataframe thead th {\n",
       "        text-align: right;\n",
       "    }\n",
       "</style>\n",
       "<table border=\"1\" class=\"dataframe\">\n",
       "  <thead>\n",
       "    <tr style=\"text-align: right;\">\n",
       "      <th></th>\n",
       "      <th>total_bill</th>\n",
       "      <th>tip</th>\n",
       "      <th>sex</th>\n",
       "      <th>smoker</th>\n",
       "      <th>day</th>\n",
       "      <th>time</th>\n",
       "      <th>size</th>\n",
       "    </tr>\n",
       "  </thead>\n",
       "  <tbody>\n",
       "    <tr>\n",
       "      <th>0</th>\n",
       "      <td>16.99</td>\n",
       "      <td>1.01</td>\n",
       "      <td>Female</td>\n",
       "      <td>No</td>\n",
       "      <td>Sun</td>\n",
       "      <td>Dinner</td>\n",
       "      <td>2</td>\n",
       "    </tr>\n",
       "    <tr>\n",
       "      <th>1</th>\n",
       "      <td>10.34</td>\n",
       "      <td>1.66</td>\n",
       "      <td>Male</td>\n",
       "      <td>No</td>\n",
       "      <td>Sun</td>\n",
       "      <td>Dinner</td>\n",
       "      <td>3</td>\n",
       "    </tr>\n",
       "    <tr>\n",
       "      <th>2</th>\n",
       "      <td>21.01</td>\n",
       "      <td>3.50</td>\n",
       "      <td>Male</td>\n",
       "      <td>No</td>\n",
       "      <td>Sun</td>\n",
       "      <td>Dinner</td>\n",
       "      <td>3</td>\n",
       "    </tr>\n",
       "    <tr>\n",
       "      <th>3</th>\n",
       "      <td>23.68</td>\n",
       "      <td>3.31</td>\n",
       "      <td>Male</td>\n",
       "      <td>No</td>\n",
       "      <td>Sun</td>\n",
       "      <td>Dinner</td>\n",
       "      <td>2</td>\n",
       "    </tr>\n",
       "    <tr>\n",
       "      <th>4</th>\n",
       "      <td>24.59</td>\n",
       "      <td>3.61</td>\n",
       "      <td>Female</td>\n",
       "      <td>No</td>\n",
       "      <td>Sun</td>\n",
       "      <td>Dinner</td>\n",
       "      <td>4</td>\n",
       "    </tr>\n",
       "  </tbody>\n",
       "</table>\n",
       "</div>"
      ],
      "text/plain": [
       "   total_bill   tip     sex smoker  day    time  size\n",
       "0       16.99  1.01  Female     No  Sun  Dinner     2\n",
       "1       10.34  1.66    Male     No  Sun  Dinner     3\n",
       "2       21.01  3.50    Male     No  Sun  Dinner     3\n",
       "3       23.68  3.31    Male     No  Sun  Dinner     2\n",
       "4       24.59  3.61  Female     No  Sun  Dinner     4"
      ]
     },
     "execution_count": 2,
     "metadata": {},
     "output_type": "execute_result"
    }
   ],
   "source": [
    "import seaborn as sns\n",
    "df=sns.load_dataset('tips')\n",
    "df.head()"
   ]
  },
  {
   "cell_type": "code",
   "execution_count": 4,
   "id": "d61229a7",
   "metadata": {
    "scrolled": true
   },
   "outputs": [
    {
     "data": {
      "application/vnd.jupyter.widget-view+json": {
       "model_id": "5e4f460fee4a4009ae37c3803c193c45",
       "version_major": 2,
       "version_minor": 0
      },
      "text/plain": [
       "Summarize dataset:   0%|          | 0/5 [00:00<?, ?it/s]"
      ]
     },
     "metadata": {},
     "output_type": "display_data"
    },
    {
     "data": {
      "application/vnd.jupyter.widget-view+json": {
       "model_id": "653b62f08be8447984dc828d97fb9f6c",
       "version_major": 2,
       "version_minor": 0
      },
      "text/plain": [
       "Generate report structure:   0%|          | 0/1 [00:00<?, ?it/s]"
      ]
     },
     "metadata": {},
     "output_type": "display_data"
    },
    {
     "data": {
      "application/vnd.jupyter.widget-view+json": {
       "model_id": "8c6f6aff1c7144f1af9aae7b956e7e1c",
       "version_major": 2,
       "version_minor": 0
      },
      "text/plain": [
       "Render HTML:   0%|          | 0/1 [00:00<?, ?it/s]"
      ]
     },
     "metadata": {},
     "output_type": "display_data"
    },
    {
     "data": {
      "application/vnd.jupyter.widget-view+json": {
       "model_id": "5d8faf2d29d6450aab23340f422155a4",
       "version_major": 2,
       "version_minor": 0
      },
      "text/plain": [
       "Export report to file:   0%|          | 0/1 [00:00<?, ?it/s]"
      ]
     },
     "metadata": {},
     "output_type": "display_data"
    }
   ],
   "source": [
    "from pandas_profiling import ProfileReport\n",
    "profile=ProfileReport(df, explorative=True)\n",
    "profile.to_file('output.html')"
   ]
  },
  {
   "cell_type": "code",
   "execution_count": 12,
   "id": "41c85fc4",
   "metadata": {},
   "outputs": [],
   "source": [
    "import pandas as pd\n"
   ]
  },
  {
   "cell_type": "code",
   "execution_count": 18,
   "id": "a7ede491",
   "metadata": {},
   "outputs": [],
   "source": [
    "sales = pd.read_csv(\"D:\\\\Sales_data\\\\sales_2016.csv\")"
   ]
  },
  {
   "cell_type": "code",
   "execution_count": 19,
   "id": "1d2ebda7",
   "metadata": {},
   "outputs": [
    {
     "data": {
      "text/html": [
       "<div>\n",
       "<style scoped>\n",
       "    .dataframe tbody tr th:only-of-type {\n",
       "        vertical-align: middle;\n",
       "    }\n",
       "\n",
       "    .dataframe tbody tr th {\n",
       "        vertical-align: top;\n",
       "    }\n",
       "\n",
       "    .dataframe thead th {\n",
       "        text-align: right;\n",
       "    }\n",
       "</style>\n",
       "<table border=\"1\" class=\"dataframe\">\n",
       "  <thead>\n",
       "    <tr style=\"text-align: right;\">\n",
       "      <th></th>\n",
       "      <th>Order ID</th>\n",
       "      <th>Customer ID</th>\n",
       "      <th>SalesPerson</th>\n",
       "      <th>Order Date</th>\n",
       "      <th>Order Priority</th>\n",
       "      <th>SKU</th>\n",
       "      <th>Order Quantity</th>\n",
       "      <th>Unit Sell Price</th>\n",
       "      <th>Discount</th>\n",
       "      <th>Shipping Amount</th>\n",
       "      <th>Ship Mode</th>\n",
       "      <th>Product Container</th>\n",
       "      <th>Ship Date</th>\n",
       "    </tr>\n",
       "  </thead>\n",
       "  <tbody>\n",
       "    <tr>\n",
       "      <th>0</th>\n",
       "      <td>2277</td>\n",
       "      <td>C236</td>\n",
       "      <td>Richard</td>\n",
       "      <td>1/01/2016</td>\n",
       "      <td>Not Specified</td>\n",
       "      <td>SKU1005</td>\n",
       "      <td>10</td>\n",
       "      <td>5.98</td>\n",
       "      <td>0.01</td>\n",
       "      <td>4.38</td>\n",
       "      <td>Regular Air</td>\n",
       "      <td>Small Pack</td>\n",
       "      <td>2/01/2016</td>\n",
       "    </tr>\n",
       "    <tr>\n",
       "      <th>1</th>\n",
       "      <td>2277</td>\n",
       "      <td>C236</td>\n",
       "      <td>Richard</td>\n",
       "      <td>1/01/2016</td>\n",
       "      <td>Not Specified</td>\n",
       "      <td>SKU602</td>\n",
       "      <td>21</td>\n",
       "      <td>40.99</td>\n",
       "      <td>0.06</td>\n",
       "      <td>19.99</td>\n",
       "      <td>Regular Air</td>\n",
       "      <td>Small Box</td>\n",
       "      <td>3/01/2016</td>\n",
       "    </tr>\n",
       "    <tr>\n",
       "      <th>2</th>\n",
       "      <td>16262</td>\n",
       "      <td>C465</td>\n",
       "      <td>Bob</td>\n",
       "      <td>1/01/2016</td>\n",
       "      <td>Low</td>\n",
       "      <td>SKU552</td>\n",
       "      <td>11</td>\n",
       "      <td>5.18</td>\n",
       "      <td>0.06</td>\n",
       "      <td>2.04</td>\n",
       "      <td>Express Air</td>\n",
       "      <td>Wrap Bag</td>\n",
       "      <td>8/01/2016</td>\n",
       "    </tr>\n",
       "    <tr>\n",
       "      <th>3</th>\n",
       "      <td>17058</td>\n",
       "      <td>C296</td>\n",
       "      <td>Bob</td>\n",
       "      <td>1/01/2016</td>\n",
       "      <td>High</td>\n",
       "      <td>SKU647</td>\n",
       "      <td>15</td>\n",
       "      <td>4.28</td>\n",
       "      <td>0.04</td>\n",
       "      <td>6.72</td>\n",
       "      <td>Regular Air</td>\n",
       "      <td>Small Box</td>\n",
       "      <td>2/01/2016</td>\n",
       "    </tr>\n",
       "    <tr>\n",
       "      <th>4</th>\n",
       "      <td>52640</td>\n",
       "      <td>C719</td>\n",
       "      <td>Bob</td>\n",
       "      <td>1/01/2016</td>\n",
       "      <td>Medium</td>\n",
       "      <td>SKU401</td>\n",
       "      <td>18</td>\n",
       "      <td>63.98</td>\n",
       "      <td>0.05</td>\n",
       "      <td>19.99</td>\n",
       "      <td>Express Air</td>\n",
       "      <td>Small Box</td>\n",
       "      <td>4/01/2016</td>\n",
       "    </tr>\n",
       "    <tr>\n",
       "      <th>...</th>\n",
       "      <td>...</td>\n",
       "      <td>...</td>\n",
       "      <td>...</td>\n",
       "      <td>...</td>\n",
       "      <td>...</td>\n",
       "      <td>...</td>\n",
       "      <td>...</td>\n",
       "      <td>...</td>\n",
       "      <td>...</td>\n",
       "      <td>...</td>\n",
       "      <td>...</td>\n",
       "      <td>...</td>\n",
       "      <td>...</td>\n",
       "    </tr>\n",
       "    <tr>\n",
       "      <th>1999</th>\n",
       "      <td>3271</td>\n",
       "      <td>C398</td>\n",
       "      <td>Richard</td>\n",
       "      <td>30/12/2016</td>\n",
       "      <td>Critical</td>\n",
       "      <td>SKU576</td>\n",
       "      <td>18</td>\n",
       "      <td>8.34</td>\n",
       "      <td>0.06</td>\n",
       "      <td>1.43</td>\n",
       "      <td>Express Air</td>\n",
       "      <td>Wrap Bag</td>\n",
       "      <td>31/12/2016</td>\n",
       "    </tr>\n",
       "    <tr>\n",
       "      <th>2000</th>\n",
       "      <td>27137</td>\n",
       "      <td>C029</td>\n",
       "      <td>Richard</td>\n",
       "      <td>30/12/2016</td>\n",
       "      <td>High</td>\n",
       "      <td>SKU1194</td>\n",
       "      <td>2</td>\n",
       "      <td>35.99</td>\n",
       "      <td>0.02</td>\n",
       "      <td>1.10</td>\n",
       "      <td>Regular Air</td>\n",
       "      <td>Small Box</td>\n",
       "      <td>1/01/2017</td>\n",
       "    </tr>\n",
       "    <tr>\n",
       "      <th>2001</th>\n",
       "      <td>37543</td>\n",
       "      <td>C248</td>\n",
       "      <td>Richard</td>\n",
       "      <td>30/12/2016</td>\n",
       "      <td>Medium</td>\n",
       "      <td>SKU768</td>\n",
       "      <td>6</td>\n",
       "      <td>36.55</td>\n",
       "      <td>0.01</td>\n",
       "      <td>13.89</td>\n",
       "      <td>Regular Air</td>\n",
       "      <td>Wrap Bag</td>\n",
       "      <td>31/12/2016</td>\n",
       "    </tr>\n",
       "    <tr>\n",
       "      <th>2002</th>\n",
       "      <td>51648</td>\n",
       "      <td>C660</td>\n",
       "      <td>Bob</td>\n",
       "      <td>31/12/2016</td>\n",
       "      <td>Low</td>\n",
       "      <td>SKU1068</td>\n",
       "      <td>45</td>\n",
       "      <td>49.99</td>\n",
       "      <td>0.03</td>\n",
       "      <td>19.99</td>\n",
       "      <td>Regular Air</td>\n",
       "      <td>Small Box</td>\n",
       "      <td>7/01/2017</td>\n",
       "    </tr>\n",
       "    <tr>\n",
       "      <th>2003</th>\n",
       "      <td>51648</td>\n",
       "      <td>C660</td>\n",
       "      <td>John</td>\n",
       "      <td>31/12/2016</td>\n",
       "      <td>Low</td>\n",
       "      <td>SKU600</td>\n",
       "      <td>50</td>\n",
       "      <td>3.98</td>\n",
       "      <td>0.08</td>\n",
       "      <td>2.97</td>\n",
       "      <td>Regular Air</td>\n",
       "      <td>Wrap Bag</td>\n",
       "      <td>5/01/2017</td>\n",
       "    </tr>\n",
       "  </tbody>\n",
       "</table>\n",
       "<p>2004 rows × 13 columns</p>\n",
       "</div>"
      ],
      "text/plain": [
       "      Order ID Customer ID SalesPerson  Order Date Order Priority      SKU  \\\n",
       "0         2277        C236     Richard   1/01/2016  Not Specified  SKU1005   \n",
       "1         2277        C236     Richard   1/01/2016  Not Specified   SKU602   \n",
       "2        16262        C465         Bob   1/01/2016            Low   SKU552   \n",
       "3        17058        C296         Bob   1/01/2016           High   SKU647   \n",
       "4        52640        C719         Bob   1/01/2016         Medium   SKU401   \n",
       "...        ...         ...         ...         ...            ...      ...   \n",
       "1999      3271        C398     Richard  30/12/2016       Critical   SKU576   \n",
       "2000     27137        C029     Richard  30/12/2016           High  SKU1194   \n",
       "2001     37543        C248     Richard  30/12/2016         Medium   SKU768   \n",
       "2002     51648        C660         Bob  31/12/2016            Low  SKU1068   \n",
       "2003     51648        C660        John  31/12/2016            Low   SKU600   \n",
       "\n",
       "      Order Quantity  Unit Sell Price  Discount  Shipping Amount    Ship Mode  \\\n",
       "0                 10             5.98      0.01             4.38  Regular Air   \n",
       "1                 21            40.99      0.06            19.99  Regular Air   \n",
       "2                 11             5.18      0.06             2.04  Express Air   \n",
       "3                 15             4.28      0.04             6.72  Regular Air   \n",
       "4                 18            63.98      0.05            19.99  Express Air   \n",
       "...              ...              ...       ...              ...          ...   \n",
       "1999              18             8.34      0.06             1.43  Express Air   \n",
       "2000               2            35.99      0.02             1.10  Regular Air   \n",
       "2001               6            36.55      0.01            13.89  Regular Air   \n",
       "2002              45            49.99      0.03            19.99  Regular Air   \n",
       "2003              50             3.98      0.08             2.97  Regular Air   \n",
       "\n",
       "     Product Container   Ship Date  \n",
       "0           Small Pack   2/01/2016  \n",
       "1            Small Box   3/01/2016  \n",
       "2             Wrap Bag   8/01/2016  \n",
       "3            Small Box   2/01/2016  \n",
       "4            Small Box   4/01/2016  \n",
       "...                ...         ...  \n",
       "1999          Wrap Bag  31/12/2016  \n",
       "2000         Small Box   1/01/2017  \n",
       "2001          Wrap Bag  31/12/2016  \n",
       "2002         Small Box   7/01/2017  \n",
       "2003          Wrap Bag   5/01/2017  \n",
       "\n",
       "[2004 rows x 13 columns]"
      ]
     },
     "execution_count": 19,
     "metadata": {},
     "output_type": "execute_result"
    }
   ],
   "source": [
    "sales"
   ]
  },
  {
   "cell_type": "code",
   "execution_count": 27,
   "id": "00856e1b",
   "metadata": {},
   "outputs": [
    {
     "data": {
      "application/vnd.jupyter.widget-view+json": {
       "model_id": "ecf8151aec694452b2b9dd0f613c6576",
       "version_major": 2,
       "version_minor": 0
      },
      "text/plain": [
       "Summarize dataset:   0%|          | 0/5 [00:00<?, ?it/s]"
      ]
     },
     "metadata": {},
     "output_type": "display_data"
    },
    {
     "data": {
      "application/vnd.jupyter.widget-view+json": {
       "model_id": "6daf93ccaf6f458aabc11c79b83cd05b",
       "version_major": 2,
       "version_minor": 0
      },
      "text/plain": [
       "Generate report structure:   0%|          | 0/1 [00:00<?, ?it/s]"
      ]
     },
     "metadata": {},
     "output_type": "display_data"
    },
    {
     "data": {
      "application/vnd.jupyter.widget-view+json": {
       "model_id": "b8deae480ae94f99bdade83211756408",
       "version_major": 2,
       "version_minor": 0
      },
      "text/plain": [
       "Render HTML:   0%|          | 0/1 [00:00<?, ?it/s]"
      ]
     },
     "metadata": {},
     "output_type": "display_data"
    },
    {
     "data": {
      "application/vnd.jupyter.widget-view+json": {
       "model_id": "2acc71775cb64edab647091086743bb2",
       "version_major": 2,
       "version_minor": 0
      },
      "text/plain": [
       "Export report to file:   0%|          | 0/1 [00:00<?, ?it/s]"
      ]
     },
     "metadata": {},
     "output_type": "display_data"
    }
   ],
   "source": [
    "from pandas_profiling import ProfileReport\n",
    "profile=ProfileReport(sales, explorative=True)\n",
    "profile.to_file('output.html')"
   ]
  }
 ],
 "metadata": {
  "kernelspec": {
   "display_name": "Python 3 (ipykernel)",
   "language": "python",
   "name": "python3"
  },
  "language_info": {
   "codemirror_mode": {
    "name": "ipython",
    "version": 3
   },
   "file_extension": ".py",
   "mimetype": "text/x-python",
   "name": "python",
   "nbconvert_exporter": "python",
   "pygments_lexer": "ipython3",
   "version": "3.9.13"
  }
 },
 "nbformat": 4,
 "nbformat_minor": 5
}
